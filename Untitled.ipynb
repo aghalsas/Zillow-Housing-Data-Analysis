{
 "cells": [
  {
   "cell_type": "code",
   "execution_count": 1,
   "metadata": {},
   "outputs": [
    {
     "name": "stdout",
     "output_type": "stream",
     "text": [
      "Collecting pmdarima\n",
      "  Downloading https://files.pythonhosted.org/packages/b3/94/6dd46d424af2b167fa7557162f11d98e80bc7ae5def4f7d43de3dbd8656f/pmdarima-1.5.2-cp37-cp37m-win_amd64.whl (583kB)\n",
      "Requirement already satisfied: statsmodels>=0.10.0 in c:\\users\\akshay\\anaconda3_1\\lib\\site-packages (from pmdarima) (0.10.1)\n",
      "Requirement already satisfied: Cython>=0.29 in c:\\users\\akshay\\anaconda3_1\\lib\\site-packages (from pmdarima) (0.29.13)\n",
      "Requirement already satisfied: scipy>=1.3 in c:\\users\\akshay\\anaconda3_1\\lib\\site-packages (from pmdarima) (1.3.1)\n",
      "Requirement already satisfied: numpy>=1.16 in c:\\users\\akshay\\anaconda3_1\\lib\\site-packages (from pmdarima) (1.16.5)\n",
      "Requirement already satisfied: joblib>=0.11 in c:\\users\\akshay\\anaconda3_1\\lib\\site-packages (from pmdarima) (0.13.2)\n",
      "Requirement already satisfied: pandas>=0.19 in c:\\users\\akshay\\anaconda3_1\\lib\\site-packages (from pmdarima) (0.25.1)\n",
      "Requirement already satisfied: scikit-learn>=0.19 in c:\\users\\akshay\\anaconda3_1\\lib\\site-packages (from pmdarima) (0.21.3)\n",
      "Requirement already satisfied: patsy>=0.4.0 in c:\\users\\akshay\\anaconda3_1\\lib\\site-packages (from statsmodels>=0.10.0->pmdarima) (0.5.1)\n",
      "Requirement already satisfied: python-dateutil>=2.6.1 in c:\\users\\akshay\\anaconda3_1\\lib\\site-packages (from pandas>=0.19->pmdarima) (2.8.0)\n",
      "Requirement already satisfied: pytz>=2017.2 in c:\\users\\akshay\\anaconda3_1\\lib\\site-packages (from pandas>=0.19->pmdarima) (2019.3)\n",
      "Requirement already satisfied: six in c:\\users\\akshay\\anaconda3_1\\lib\\site-packages (from patsy>=0.4.0->statsmodels>=0.10.0->pmdarima) (1.12.0)\n",
      "Installing collected packages: pmdarima\n",
      "Successfully installed pmdarima-1.5.2\n"
     ]
    }
   ],
   "source": [
    "!pip install pmdarima"
   ]
  },
  {
   "cell_type": "code",
   "execution_count": null,
   "metadata": {},
   "outputs": [],
   "source": []
  }
 ],
 "metadata": {
  "kernelspec": {
   "display_name": "Python 3",
   "language": "python",
   "name": "python3"
  },
  "language_info": {
   "codemirror_mode": {
    "name": "ipython",
    "version": 3
   },
   "file_extension": ".py",
   "mimetype": "text/x-python",
   "name": "python",
   "nbconvert_exporter": "python",
   "pygments_lexer": "ipython3",
   "version": "3.7.4"
  }
 },
 "nbformat": 4,
 "nbformat_minor": 2
}
